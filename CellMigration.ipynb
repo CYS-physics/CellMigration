{
 "cells": [
  {
   "cell_type": "markdown",
   "id": "0523d419-79d8-4224-b7ee-c257eb673f3d",
   "metadata": {},
   "source": [
    "# CellMigration MD simulation\n",
    "## Yunsik Choe (CANONEQAL, SNU, rep. of Korea)"
   ]
  },
  {
   "cell_type": "markdown",
   "id": "4690b2a6-b60d-4173-9707-b9f1f81378aa",
   "metadata": {},
   "source": [
    "## active noise"
   ]
  },
  {
   "cell_type": "code",
   "execution_count": null,
   "id": "131c8a1b-1b27-4061-833d-076c4c9e2c21",
   "metadata": {},
   "outputs": [],
   "source": []
  },
  {
   "cell_type": "code",
   "execution_count": null,
   "id": "596d7258-f983-4f7a-9133-0eeb47b29e3c",
   "metadata": {},
   "outputs": [],
   "source": []
  }
 ],
 "metadata": {
  "kernelspec": {
   "display_name": "Python 3",
   "language": "python",
   "name": "python3"
  },
  "language_info": {
   "codemirror_mode": {
    "name": "ipython",
    "version": 3
   },
   "file_extension": ".py",
   "mimetype": "text/x-python",
   "name": "python",
   "nbconvert_exporter": "python",
   "pygments_lexer": "ipython3",
   "version": "3.8.10"
  }
 },
 "nbformat": 4,
 "nbformat_minor": 5
}
